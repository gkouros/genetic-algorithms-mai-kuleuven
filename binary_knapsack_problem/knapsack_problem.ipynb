{
 "cells": [
  {
   "cell_type": "markdown",
   "metadata": {},
   "source": [
    "# Binary Knapsack Problem Experiments\n",
    "In the binary knapsack problem you are given:\n",
    "- a set of objects o1, o2, ..., ok\n",
    "- their values v1, v2, ..., vk\n",
    "- their weights w1, w2, ..., wk\n",
    "The goal is to maximize the total value of the selected objects, subject to a weight constraint w"
   ]
  },
  {
   "cell_type": "code",
   "execution_count": 5,
   "metadata": {},
   "outputs": [],
   "source": [
    "import numpy as np"
   ]
  },
  {
   "cell_type": "markdown",
   "metadata": {},
   "source": [
    "## Representation and Toy Problem Generation"
   ]
  },
  {
   "cell_type": "code",
   "execution_count": 239,
   "metadata": {},
   "outputs": [],
   "source": [
    "class KnapsackProblem:\n",
    "    num_objects = None\n",
    "    values = None\n",
    "    weights = None\n",
    "    capacity = None\n",
    "    \n",
    "    def __init__(self, num_objects: int) -> None:\n",
    "        self.num_objects = num_objects\n",
    "        self.values = 2 ** np.random.rand(num_objects)\n",
    "        self.weights = 2 ** np.random.rand(num_objects)\n",
    "        self.capacity = 0.25 * self.weights.sum()\n",
    "            \n",
    "    def __str__(self):\n",
    "        return f'Knapsack Problem Object with N={self.num_objects}\\n\\n' \\\n",
    "            + f'Values: {self.values}\\n\\n' \\\n",
    "            + f'Weights: {self.weights}\\n\\n' \\\n",
    "            + f'Capacity: {self.capacity}\\n'"
   ]
  },
  {
   "cell_type": "code",
   "execution_count": 240,
   "metadata": {},
   "outputs": [
    {
     "name": "stdout",
     "output_type": "stream",
     "text": [
      "Knapsack Problem Object with N=10\n",
      "\n",
      "Values: [1.02031414 1.17422714 1.07654056 1.0308779  1.32078789 1.10768761\n",
      " 1.88507114 1.37503895 1.46176694 1.88989744]\n",
      "\n",
      "Weights: [1.27063587 1.63976153 1.03778725 1.2285731  1.44393849 1.56722674\n",
      " 1.29149573 1.40561332 1.14955549 1.59465366]\n",
      "\n",
      "Capacity: 3.4073102945122757\n",
      "\n"
     ]
    }
   ],
   "source": [
    "kp = KnapsackProblem(10)\n",
    "print(kp)"
   ]
  },
  {
   "cell_type": "markdown",
   "metadata": {},
   "source": [
    "## Solutions Representation\n",
    "1) List of integers\n",
    "2) A permutation of K numbers"
   ]
  },
  {
   "cell_type": "code",
   "execution_count": 287,
   "metadata": {},
   "outputs": [],
   "source": [
    "class Individual:\n",
    "    order = None\n",
    "    alpha = None # probability of mutation\n",
    "    def __init__(self, kp: KnapsackProblem, alpha: float=0.05) -> None:\n",
    "        self.order = np.random.permutation(kp.num_objects)\n",
    "        self.alpha = alpha\n",
    "        \n",
    "    def __str__(self) -> str:\n",
    "        return f'{self.order}'"
   ]
  },
  {
   "cell_type": "code",
   "execution_count": 242,
   "metadata": {},
   "outputs": [],
   "source": [
    "def fitness(kp: KnapsackProblem,\n",
    "            individual: Individual) -> float:\n",
    "    remaining_weight = kp.capacity\n",
    "    total_value = 0\n",
    "\n",
    "    for idx in individual.order:\n",
    "        if kp.weights[idx] < remaining_weight:\n",
    "            remaining_weight -= kp.weights[idx]\n",
    "            total_value += kp.values[idx]\n",
    "\n",
    "    return total_value"
   ]
  },
  {
   "cell_type": "code",
   "execution_count": 262,
   "metadata": {},
   "outputs": [],
   "source": [
    "def in_knapsack(kp: KnapsackProblem,\n",
    "               individual: Individual) -> float:\n",
    "    remaining_weight = kp.capacity\n",
    "    kpi = set()\n",
    "    \n",
    "    for idx in individual.order:\n",
    "        if kp.weights[idx] < remaining_weight:\n",
    "            remaining_weight -= kp.weights[idx]\n",
    "            kpi.add(idx)\n",
    "\n",
    "    return kpi"
   ]
  },
  {
   "cell_type": "code",
   "execution_count": 244,
   "metadata": {},
   "outputs": [
    {
     "name": "stdout",
     "output_type": "stream",
     "text": [
      "Knapsack Problem Object with N=10\n",
      "\n",
      "Values: [1.79015174 1.43104726 1.57502839 1.18029802 1.14537119 1.03255504\n",
      " 1.24111292 1.62622048 1.56721896 1.39146521]\n",
      "\n",
      "Weights: [1.65762732 1.91110148 1.46807393 1.22444378 1.86036366 1.52195529\n",
      " 1.68551903 1.02505224 1.16253941 1.48006226]\n",
      "\n",
      "Capacity: 3.749184598059915\n",
      "\n",
      "fitness of individual [4 3 0 8 1 9 5 2 6 7]: 2.3257\n"
     ]
    }
   ],
   "source": [
    "kp = KnapsackProblem(10)\n",
    "ind = Individual(kp)\n",
    "print(kp)\n",
    "print(f'fitness of individual {ind}: {fitness(kp, ind):.4f}')"
   ]
  },
  {
   "cell_type": "markdown",
   "metadata": {},
   "source": [
    "## Evolutionary Methods"
   ]
  },
  {
   "cell_type": "code",
   "execution_count": 457,
   "metadata": {},
   "outputs": [],
   "source": [
    "def mutation(ind: Individual) -> Individual:\n",
    "    if np.random.rand() > ind.alpha:\n",
    "        i1 = np.random.randint(10)\n",
    "        i2 = np.random.randint(10)\n",
    "        ind.order[i1], ind.order[i2] = ind.order[i2], ind.order[i1]\n",
    "        \n",
    "    return ind\n",
    "\n",
    "\n",
    "def recombination(kp: KnapsackProblem,\n",
    "                  p1: Individual,\n",
    "                  p2: Individual\n",
    "                 ) -> Individual:\n",
    "    \n",
    "    set1 = in_knapsack(kp, p1)\n",
    "    set2 = in_knapsack(kp, p2)\n",
    "    \n",
    "    # copy intersection to offspring\n",
    "    offspring = set1.intersection(set2)\n",
    "    \n",
    "    # copy rest with probability of 50%\n",
    "    for ind in set1.symmetric_difference(set2):\n",
    "        if np.random.rand() <= 0.5:\n",
    "            offspring.add(ind)\n",
    "    \n",
    "    order = list(range(kp.num_objects))\n",
    "    i = 0\n",
    "    for obj in offspring:\n",
    "        order[i] = obj\n",
    "        i += 1\n",
    "    \n",
    "    rem = set(range(kp.num_objects)).difference(offspring)\n",
    "    for obj in rem:\n",
    "        order[i] = obj\n",
    "        i += 1\n",
    "        \n",
    "    # randomly permute the elements\n",
    "    order[:len(offspring)] = [\n",
    "        order[idx] for idx in np.random.permutation(\n",
    "        range(len(offspring)))]\n",
    "    \n",
    "    order[len(offspring):] = [\n",
    "        order[idx] for idx in np.random.permutation(\n",
    "        range(len(offspring), kp.num_objects))]\n",
    "\n",
    "    beta = 2 * np.random.rand() - 0.5 # between -1.5 and 1.5\n",
    "    alpha = p1.alpha + beta * (p2.alpha - p1.alpha)\n",
    "    \n",
    "    ind = Individual(kp, alpha)\n",
    "    ind.order = order\n",
    "    \n",
    "    return ind\n",
    "    \n",
    "\n",
    "def selection(kp: KnapsackProblem, population: list, k: int) -> Individual:\n",
    "    indices = np.random.choice(range(len(population)), 5)\n",
    "    selected = [population[idx] for idx in indices]\n",
    "    fitnesses = [fitness(kp, s) for s in selected]\n",
    "    max_idx = np.argmax(fitnesses)\n",
    "    return selected[max_idx]\n",
    "\n",
    "def elimination(kp: KnapsackProblem, population: list, offspring: list, lambda_: int) -> list:\n",
    "    combined = population + offspring\n",
    "    combined = sorted(combined, key=lambda x: fitness(kp, x), reverse=True)\n",
    "    \n",
    "    return combined[:lambda_]"
   ]
  },
  {
   "cell_type": "markdown",
   "metadata": {},
   "source": [
    "## Main Evolutionary Algorithm"
   ]
  },
  {
   "cell_type": "code",
   "execution_count": 498,
   "metadata": {},
   "outputs": [],
   "source": [
    "def initialize(kp: KnapsackProblem, lambda_: int) -> list:\n",
    "    return [Individual(kp) for _ in range(lambda_)]\n",
    "\n",
    "\n",
    "def evolutionaryAlgorithm(kp: KnapsackProblem,\n",
    "                          lambda_: int,\n",
    "                          mu: int,\n",
    "                          num_iterations: int,\n",
    "                          k: int):\n",
    "\n",
    "    # initialize population\n",
    "    population = initialize(kp, lambda_)\n",
    "    \n",
    "    # heuristic solution\n",
    "    heur_order = np.argsort(kp.values/kp.weights)[::-1]\n",
    "    heur_solution = Individual(kp)\n",
    "    heur_solution.order = heur_order\n",
    "    print(f'Heuristic best solution fitness = {fitness(kp, heur_solution)}')\n",
    "    \n",
    "    # intialize offspring list\n",
    "    offspring = [None] * mu\n",
    "    \n",
    "    # run evolutionary algorithm\n",
    "    for ii in range(num_iterations):\n",
    "        for jj in range(mu):\n",
    "            \n",
    "            # select parents\n",
    "            parent1 = selection(kp, population, k=k)\n",
    "            parent2 = selection(kp, population, k=k)\n",
    "            \n",
    "            # generate offspring based on parents\n",
    "            offspring[jj] = recombination(kp, parent1, parent2)\n",
    "            \n",
    "            # mutate offspring\n",
    "            offspring[jj] = mutation(offspring[jj])\n",
    "        \n",
    "        # mutation on original population\n",
    "        population = [mutation(ind) for ind in population]\n",
    "        \n",
    "        # elimination\n",
    "        population = elimination(kp, population, offspring, lambda_=lambda_)\n",
    "        \n",
    "        # calculate fitnesses\n",
    "        fitnesses = [fitness(kp, ind) for ind in population]\n",
    "        \n",
    "        print(f'Mean fitness: {sum(fitnesses)/len(fitnesses)}, ', end='')\n",
    "        print(f'Best fitness: {max(fitnesses)}')\n",
    "        "
   ]
  },
  {
   "cell_type": "code",
   "execution_count": 499,
   "metadata": {},
   "outputs": [
    {
     "name": "stdout",
     "output_type": "stream",
     "text": [
      "Heuristic best solution fitness = 25.44608088689084\n",
      "Mean fitness: 20.519892133802067, Best fitness: 22.784261128211668\n",
      "Mean fitness: 21.937706430647196, Best fitness: 24.048901012177705\n",
      "Mean fitness: 22.6417156947725, Best fitness: 24.588703778614388\n",
      "Mean fitness: 23.470915175765004, Best fitness: 24.588703778614388\n",
      "Mean fitness: 24.0125904584709, Best fitness: 24.749884898132553\n",
      "Mean fitness: 24.353075962921945, Best fitness: 25.062880052301058\n",
      "Mean fitness: 24.554817376922955, Best fitness: 25.107183599503397\n",
      "Mean fitness: 24.708715010436194, Best fitness: 25.28918836557015\n",
      "Mean fitness: 24.824261986540055, Best fitness: 25.28918836557015\n",
      "Mean fitness: 24.96218909844758, Best fitness: 25.28918836557015\n",
      "Mean fitness: 25.094656354241334, Best fitness: 25.441764835314668\n",
      "Mean fitness: 25.15612503421458, Best fitness: 25.441764835314675\n",
      "Mean fitness: 25.199421870077842, Best fitness: 25.441764835314675\n",
      "Mean fitness: 25.28493313949829, Best fitness: 25.441764835314675\n",
      "Mean fitness: 25.368888790265302, Best fitness: 25.47505094828067\n",
      "Mean fitness: 25.4331259060948, Best fitness: 25.475050948280675\n",
      "Mean fitness: 25.44609203000023, Best fitness: 25.475050948280675\n",
      "Mean fitness: 25.461070780834927, Best fitness: 25.475050948280675\n",
      "Mean fitness: 25.475050948280614, Best fitness: 25.47505094828068\n",
      "Mean fitness: 25.475050948280614, Best fitness: 25.475050948280675\n",
      "Mean fitness: 25.475050948280614, Best fitness: 25.475050948280675\n",
      "Mean fitness: 25.475050948280614, Best fitness: 25.475050948280675\n",
      "Mean fitness: 25.475050948280614, Best fitness: 25.475050948280675\n",
      "Mean fitness: 25.475050948280614, Best fitness: 25.475050948280675\n",
      "Mean fitness: 25.475050948280614, Best fitness: 25.47505094828068\n"
     ]
    }
   ],
   "source": [
    "num_objects = 50\n",
    "lambda_ = 100  # population size\n",
    "mu = 100  # offspring size\n",
    "k = 5\n",
    "num_iterations = 25\n",
    "\n",
    "kp = KnapsackProblem(num_objects)\n",
    "\n",
    "evolutionaryAlgorithm(kp, lambda_, mu, num_iterations, k)"
   ]
  },
  {
   "cell_type": "markdown",
   "metadata": {},
   "source": [
    "### TODO\n",
    "Improve methods to consistently outperform the heuristic for problems of size 250-500."
   ]
  }
 ],
 "metadata": {
  "kernelspec": {
   "display_name": "Python 3",
   "language": "python",
   "name": "python3"
  },
  "language_info": {
   "codemirror_mode": {
    "name": "ipython",
    "version": 3
   },
   "file_extension": ".py",
   "mimetype": "text/x-python",
   "name": "python",
   "nbconvert_exporter": "python",
   "pygments_lexer": "ipython3",
   "version": "3.8.5"
  }
 },
 "nbformat": 4,
 "nbformat_minor": 4
}
