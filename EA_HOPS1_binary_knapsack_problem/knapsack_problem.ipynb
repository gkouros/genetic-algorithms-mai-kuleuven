{
 "cells": [
  {
   "cell_type": "markdown",
   "metadata": {},
   "source": [
    "# Knapsack Problem Experiments\n",
    "In the binary knapsack problem you are given:\n",
    "- a set of objects o1, o2, ..., ok\n",
    "- their values v1, v2, ..., vk\n",
    "- their weights w1, w2, ..., wk\n",
    "The goal is to maximize the total value of the selected objects, subject to a weight constraint w"
   ]
  },
  {
   "cell_type": "code",
   "execution_count": 1,
   "metadata": {},
   "outputs": [],
   "source": [
    "import numpy as np"
   ]
  },
  {
   "cell_type": "markdown",
   "metadata": {},
   "source": [
    "## Representation and Toy Problem Generation"
   ]
  },
  {
   "cell_type": "code",
   "execution_count": 2,
   "metadata": {},
   "outputs": [],
   "source": [
    "class KnapsackProblem:\n",
    "    num_objects = None\n",
    "    values = None\n",
    "    weights = None\n",
    "    capacity = None\n",
    "    \n",
    "    def __init__(self, num_objects: int) -> None:\n",
    "        self.num_objects = num_objects\n",
    "        self.values = 2 ** np.random.rand(num_objects)\n",
    "        self.weights = 2 ** np.random.rand(num_objects)\n",
    "        self.capacity = 0.25 * self.weights.sum()\n",
    "            \n",
    "    def __str__(self):\n",
    "        return f'Knapsack Problem Object with N={self.num_objects}\\n\\n' \\\n",
    "            + f'Values: {self.values}\\n\\n' \\\n",
    "            + f'Weights: {self.weights}\\n\\n' \\\n",
    "            + f'Capacity: {self.capacity}\\n'"
   ]
  },
  {
   "cell_type": "code",
   "execution_count": 3,
   "metadata": {},
   "outputs": [
    {
     "name": "stdout",
     "output_type": "stream",
     "text": [
      "Knapsack Problem Object with N=10\n",
      "\n",
      "Values: [1.66814767 1.55758968 1.00276745 1.79895612 1.0621401  1.40455682\n",
      " 1.53750476 1.31605103 1.31107832 1.0670016 ]\n",
      "\n",
      "Weights: [1.94376776 1.99184416 1.90122895 1.27313338 1.02232951 1.99047892\n",
      " 1.03899075 1.1623158  1.02209891 1.14427486]\n",
      "\n",
      "Capacity: 3.622615749660481\n",
      "\n"
     ]
    }
   ],
   "source": [
    "kp = KnapsackProblem(10)\n",
    "print(kp)"
   ]
  },
  {
   "cell_type": "markdown",
   "metadata": {},
   "source": [
    "## Solutions Representation\n",
    "1) List of integers\n",
    "2) A permutation of K numbers"
   ]
  },
  {
   "cell_type": "code",
   "execution_count": 4,
   "metadata": {},
   "outputs": [],
   "source": [
    "class Individual:\n",
    "    order = None\n",
    "    alpha = None # probability of mutation\n",
    "    def __init__(self, kp: KnapsackProblem, alpha: float=0.05) -> None:\n",
    "        self.order = np.random.permutation(kp.num_objects)\n",
    "        self.alpha = alpha\n",
    "        \n",
    "    def __str__(self) -> str:\n",
    "        return f'{self.order}'"
   ]
  },
  {
   "cell_type": "code",
   "execution_count": 5,
   "metadata": {},
   "outputs": [],
   "source": [
    "def fitness(kp: KnapsackProblem,\n",
    "            individual: Individual) -> float:\n",
    "    remaining_weight = kp.capacity\n",
    "    total_value = 0\n",
    "\n",
    "    for idx in individual.order:\n",
    "        if kp.weights[idx] < remaining_weight:\n",
    "            remaining_weight -= kp.weights[idx]\n",
    "            total_value += kp.values[idx]\n",
    "\n",
    "    return total_value"
   ]
  },
  {
   "cell_type": "code",
   "execution_count": 6,
   "metadata": {},
   "outputs": [],
   "source": [
    "def in_knapsack(kp: KnapsackProblem,\n",
    "               individual: Individual) -> float:\n",
    "    remaining_weight = kp.capacity\n",
    "    kpi = set()\n",
    "    \n",
    "    for idx in individual.order:\n",
    "        if kp.weights[idx] < remaining_weight:\n",
    "            remaining_weight -= kp.weights[idx]\n",
    "            kpi.add(idx)\n",
    "\n",
    "    return kpi"
   ]
  },
  {
   "cell_type": "code",
   "execution_count": 7,
   "metadata": {},
   "outputs": [
    {
     "name": "stdout",
     "output_type": "stream",
     "text": [
      "Knapsack Problem Object with N=10\n",
      "\n",
      "Values: [1.96352026 1.27077357 1.58362964 1.29219692 1.87803282 1.59021832\n",
      " 1.18337536 1.44794622 1.69147336 1.63832435]\n",
      "\n",
      "Weights: [1.53838339 1.1578858  1.38901387 1.23472527 1.17644583 1.85385408\n",
      " 1.09464916 1.15818984 1.15732272 1.65442933]\n",
      "\n",
      "Capacity: 3.35372482216783\n",
      "\n",
      "fitness of individual [1 7 9 8 3 6 2 4 5 0]: 2.7187\n"
     ]
    }
   ],
   "source": [
    "kp = KnapsackProblem(10)\n",
    "ind = Individual(kp)\n",
    "print(kp)\n",
    "print(f'fitness of individual {ind}: {fitness(kp, ind):.4f}')"
   ]
  },
  {
   "cell_type": "markdown",
   "metadata": {},
   "source": [
    "## Evolutionary Methods"
   ]
  },
  {
   "cell_type": "code",
   "execution_count": 8,
   "metadata": {},
   "outputs": [],
   "source": [
    "def mutation(ind: Individual) -> Individual:\n",
    "    if np.random.rand() > ind.alpha:\n",
    "        i1 = np.random.randint(10)\n",
    "        i2 = np.random.randint(10)\n",
    "        ind.order[i1], ind.order[i2] = ind.order[i2], ind.order[i1]\n",
    "        \n",
    "    return ind\n",
    "\n",
    "\n",
    "def recombination(kp: KnapsackProblem,\n",
    "                  p1: Individual,\n",
    "                  p2: Individual\n",
    "                 ) -> Individual:\n",
    "    \n",
    "    set1 = in_knapsack(kp, p1)\n",
    "    set2 = in_knapsack(kp, p2)\n",
    "    \n",
    "    # copy intersection to offspring\n",
    "    offspring = set1.intersection(set2)\n",
    "    \n",
    "    # copy rest with probability of 50%\n",
    "    for ind in set1.symmetric_difference(set2):\n",
    "        if np.random.rand() <= 0.5:\n",
    "            offspring.add(ind)\n",
    "    \n",
    "    order = list(range(kp.num_objects))\n",
    "    i = 0\n",
    "    for obj in offspring:\n",
    "        order[i] = obj\n",
    "        i += 1\n",
    "    \n",
    "    rem = set(range(kp.num_objects)).difference(offspring)\n",
    "    for obj in rem:\n",
    "        order[i] = obj\n",
    "        i += 1\n",
    "        \n",
    "    # randomly permute the elements\n",
    "    order[:len(offspring)] = [\n",
    "        order[idx] for idx in np.random.permutation(\n",
    "        range(len(offspring)))]\n",
    "    \n",
    "    order[len(offspring):] = [\n",
    "        order[idx] for idx in np.random.permutation(\n",
    "        range(len(offspring), kp.num_objects))]\n",
    "\n",
    "    beta = 2 * np.random.rand() - 0.5 # between -1.5 and 1.5\n",
    "    alpha = p1.alpha + beta * (p2.alpha - p1.alpha)\n",
    "    \n",
    "    ind = Individual(kp, alpha)\n",
    "    ind.order = order\n",
    "    \n",
    "    return ind\n",
    "    \n",
    "\n",
    "def selection(kp: KnapsackProblem, population: list, k: int) -> Individual:\n",
    "    indices = np.random.choice(range(len(population)), 5)\n",
    "    selected = [population[idx] for idx in indices]\n",
    "    fitnesses = [fitness(kp, s) for s in selected]\n",
    "    max_idx = np.argmax(fitnesses)\n",
    "    return selected[max_idx]\n",
    "\n",
    "def elimination(kp: KnapsackProblem, population: list, offspring: list, lambda_: int) -> list:\n",
    "    combined = population + offspring\n",
    "    combined = sorted(combined, key=lambda x: fitness(kp, x), reverse=True)\n",
    "    \n",
    "    return combined[:lambda_]"
   ]
  },
  {
   "cell_type": "markdown",
   "metadata": {},
   "source": [
    "## Main Evolutionary Algorithm"
   ]
  },
  {
   "cell_type": "code",
   "execution_count": 20,
   "metadata": {},
   "outputs": [],
   "source": [
    "def initialize(kp: KnapsackProblem, lambda_: int) -> list:\n",
    "    return [Individual(kp) for _ in range(lambda_)]\n",
    "\n",
    "\n",
    "def evolutionaryAlgorithm(kp: KnapsackProblem,\n",
    "                          lambda_: int,\n",
    "                          mu: int,\n",
    "                          num_iterations: int,\n",
    "                          k: int):\n",
    "\n",
    "    # initialize population\n",
    "    population = initialize(kp, lambda_)\n",
    "    \n",
    "    # heuristic solution\n",
    "    heur_order = np.argsort(kp.values/kp.weights)[::-1]\n",
    "    heur_solution = Individual(kp)\n",
    "    heur_solution.order = heur_order\n",
    "    print(f'Heuristic best solution fitness = {fitness(kp, heur_solution)}')\n",
    "    \n",
    "    # intialize offspring list\n",
    "    offspring = [None] * mu\n",
    "    \n",
    "    # run evolutionary algorithm\n",
    "    for ii in range(num_iterations):\n",
    "        for jj in range(mu):\n",
    "            \n",
    "            # select parents\n",
    "            parent1 = selection(kp, population, k=k)\n",
    "            parent2 = selection(kp, population, k=k)\n",
    "            \n",
    "            # generate offspring based on parents\n",
    "            offspring[jj] = recombination(kp, parent1, parent2)\n",
    "            \n",
    "            # mutate offspring\n",
    "            offsprting[jj] = mutation(offspring[jj])\n",
    "        \n",
    "        # mutation on original population\n",
    "        population = [mutation(ind) for ind in population]\n",
    "        \n",
    "        # elimination\n",
    "        population = elimination(kp, population, offspring, lambda_=lambda_)\n",
    "        \n",
    "        # calculate fitnesses\n",
    "        fitnesses = [fitness(kp, ind) for ind in population]\n",
    "        \n",
    "        print(f'Mean fitness: {sum(fitnesses)/len(fitnesses)}, ', end='')\n",
    "        print(f'Best fitness: {max(fitnesses)}')\n",
    "        "
   ]
  },
  {
   "cell_type": "code",
   "execution_count": 22,
   "metadata": {},
   "outputs": [
    {
     "name": "stdout",
     "output_type": "stream",
     "text": [
      "Heuristic best solution fitness = 25.69674747268049\n",
      "Mean fitness: 19.793020805341182, Best fitness: 22.67256048072896\n",
      "Mean fitness: 21.00878940665085, Best fitness: 22.954834625194863\n",
      "Mean fitness: 22.14406177569351, Best fitness: 23.74507546004563\n",
      "Mean fitness: 22.968264245926026, Best fitness: 23.830746459789463\n",
      "Mean fitness: 23.432633379169637, Best fitness: 24.22405828641433\n",
      "Mean fitness: 23.908268370565327, Best fitness: 24.939669528992514\n",
      "Mean fitness: 24.245335690381715, Best fitness: 25.120633724798658\n",
      "Mean fitness: 24.530868114563365, Best fitness: 25.345532889984447\n",
      "Mean fitness: 24.77085904684084, Best fitness: 25.936149869670775\n",
      "Mean fitness: 24.990223042571493, Best fitness: 25.936149869670775\n",
      "Mean fitness: 25.224363578184324, Best fitness: 25.936149869670775\n",
      "Mean fitness: 25.53365998319878, Best fitness: 25.936149869670775\n",
      "Mean fitness: 25.880117799429822, Best fitness: 25.95606509867735\n",
      "Mean fitness: 25.93674732654097, Best fitness: 25.956065098677353\n",
      "Mean fitness: 25.937543935701232, Best fitness: 25.956065098677357\n",
      "Mean fitness: 25.940730372342287, Best fitness: 25.956065098677357\n",
      "Mean fitness: 25.95208205287601, Best fitness: 25.956065098677357\n",
      "Mean fitness: 25.956065098677314, Best fitness: 25.956065098677357\n",
      "Mean fitness: 25.956065098677314, Best fitness: 25.956065098677357\n",
      "Mean fitness: 25.956065098677314, Best fitness: 25.956065098677357\n",
      "Mean fitness: 25.956065098677314, Best fitness: 25.956065098677357\n",
      "Mean fitness: 25.956065098677314, Best fitness: 25.956065098677357\n",
      "Mean fitness: 25.956065098677314, Best fitness: 25.956065098677357\n",
      "Mean fitness: 25.956065098677314, Best fitness: 25.956065098677357\n",
      "Mean fitness: 25.956065098677314, Best fitness: 25.956065098677357\n",
      "Mean fitness: 25.956065098677314, Best fitness: 25.956065098677357\n",
      "Mean fitness: 25.956065098677314, Best fitness: 25.956065098677357\n",
      "Mean fitness: 25.956065098677314, Best fitness: 25.956065098677357\n",
      "Mean fitness: 25.956065098677314, Best fitness: 25.956065098677357\n",
      "Mean fitness: 25.956065098677314, Best fitness: 25.956065098677357\n"
     ]
    }
   ],
   "source": [
    "num_objects = 50\n",
    "lambda_ = 100  # population size\n",
    "mu = 100  # offspring size\n",
    "k = 5\n",
    "num_iterations = 30\n",
    "\n",
    "kp = KnapsackProblem(num_objects)\n",
    "\n",
    "evolutionaryAlgorithm(kp, lambda_, mu, num_iterations, k)"
   ]
  },
  {
   "cell_type": "markdown",
   "metadata": {},
   "source": [
    "### TODO\n",
    "Improve methods to consistently outperform the heuristic for problems of size 250-500."
   ]
  }
 ],
 "metadata": {
  "kernelspec": {
   "display_name": "Python 3",
   "language": "python",
   "name": "python3"
  },
  "language_info": {
   "codemirror_mode": {
    "name": "ipython",
    "version": 3
   },
   "file_extension": ".py",
   "mimetype": "text/x-python",
   "name": "python",
   "nbconvert_exporter": "python",
   "pygments_lexer": "ipython3",
   "version": "3.8.5"
  }
 },
 "nbformat": 4,
 "nbformat_minor": 4
}
